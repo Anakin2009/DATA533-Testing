{
 "cells": [
  {
   "cell_type": "code",
   "execution_count": 2,
   "id": "34c4df7b",
   "metadata": {},
   "outputs": [],
   "source": [
    "import unittest \n",
    "import sys\n",
    "sys.path.append('C:\\\\Users\\\\sophiechen\\\\2022MDS\\\\Block 3\\\\Data-533\\\\project\\\\step2\\\\DATA533-testing\\\\')\n",
    "from BankAccountSystem.Structure import User as U\n",
    "from BankAccountSystem.Structure import calculation as cal"
   ]
  },
  {
   "cell_type": "code",
   "execution_count": 3,
   "id": "653e0816",
   "metadata": {},
   "outputs": [
    {
     "name": "stderr",
     "output_type": "stream",
     "text": [
      "test_newUser (__main__.test_User) ... ok\n",
      "test_user (__main__.test_User) ... ok\n",
      "\n",
      "----------------------------------------------------------------------\n",
      "Ran 2 tests in 0.007s\n",
      "\n",
      "OK\n"
     ]
    },
    {
     "data": {
      "text/plain": [
       "<unittest.main.TestProgram at 0x1793bf9bcd0>"
      ]
     },
     "execution_count": 3,
     "metadata": {},
     "output_type": "execute_result"
    }
   ],
   "source": [
    "class test_User(unittest.TestCase): # test class \n",
    "\n",
    "    def setUp(self):\n",
    "        self.user1 = U.User('Sherry', 10000)\n",
    "        self.user2 = U.User('Yuki', 11111)\n",
    "        self.user3 = U.User('Nyx', 22222)\n",
    "        self.user4 = U.User('Shveta', 33333)\n",
    "        self.newuser1 = U.newUser('Sherry', 10000, 10)\n",
    "        self.newuser2 = U.newUser('Yuki', 11111, 20)\n",
    "        self.newuser3 = U.newUser('Nyx', 22222, 30)\n",
    "        self.newuser4 = U.newUser('Shveta', 33333, 40)\n",
    "\n",
    "\n",
    "    def test_user(self):\n",
    "        self.assertIsInstance(self.user1 , U.User)\n",
    "        self.assertIsInstance(self.user2 , U.User)\n",
    "        self.assertIsInstance(self.user3 , U.User)\n",
    "        self.assertIsInstance(self.user4 , U.User)\n",
    "\n",
    "    def test_newUser(self):\n",
    "        self.assertIsInstance(self.newuser1 , U.newUser)\n",
    "        self.assertIsInstance(self.newuser2 , U.newUser)\n",
    "        self.assertIsInstance(self.newuser3 , U.newUser)\n",
    "        self.assertIsInstance(self.newuser4 , U.newUser)\n",
    "\n",
    "unittest.main(argv=[''], verbosity=2, exit=False)\n"
   ]
  },
  {
   "cell_type": "code",
   "execution_count": 4,
   "id": "791d5fc3",
   "metadata": {},
   "outputs": [
    {
     "name": "stderr",
     "output_type": "stream",
     "text": [
      "test_newUser (__main__.test_User) ... ok\n",
      "test_user (__main__.test_User) ... ok\n",
      "test_interest (__main__.test_calculation) ... "
     ]
    },
    {
     "name": "stdout",
     "output_type": "stream",
     "text": [
      "SetupClass\n",
      "Set up\n"
     ]
    },
    {
     "name": "stderr",
     "output_type": "stream",
     "text": [
      "ok\n",
      "test_service (__main__.test_calculation) ... ok\n",
      "\n",
      "----------------------------------------------------------------------\n",
      "Ran 4 tests in 1.095s\n",
      "\n",
      "OK\n"
     ]
    },
    {
     "name": "stdout",
     "output_type": "stream",
     "text": [
      "Tear Down\n",
      "Set up\n",
      "Tear Down\n",
      "TearDownClass\n"
     ]
    },
    {
     "data": {
      "text/plain": [
       "<unittest.main.TestProgram at 0x1793bf9b430>"
      ]
     },
     "execution_count": 4,
     "metadata": {},
     "output_type": "execute_result"
    }
   ],
   "source": [
    "class test_calculation(unittest.TestCase): # test class\n",
    "    def setUp(self):\n",
    "        print('Set up')\n",
    "\n",
    "    def tearDown(self):\n",
    "        print('Tear Down')\n",
    "\n",
    "    @classmethod\n",
    "    def setUpClass(cls):\n",
    "        print('SetupClass')\n",
    "\n",
    "    @classmethod\n",
    "    def tearDownClass(cls):\n",
    "        print('TearDownClass')\n",
    "\n",
    "    def test_interest(self):\n",
    "        self.assertEqual(round(cal.interest(1), 5), 0.0001)\n",
    "        self.assertEqual(round(cal.interest(2), 5), 0.0002)\n",
    "        self.assertEqual(round(cal.interest(3), 5), 0.0003)\n",
    "        self.assertEqual(round(cal.interest(4), 5), 0.0004)\n",
    "\n",
    "    def test_service(self):\n",
    "        self.assertEqual(cal.service(100), 103)\n",
    "        self.assertEqual(cal.service(200), 203)\n",
    "        self.assertEqual(cal.service(300), 303)\n",
    "        self.assertEqual(cal.service(400), 403)\n",
    "\n",
    "unittest.main(argv=[''], verbosity=2, exit=False)"
   ]
  },
  {
   "cell_type": "code",
   "execution_count": null,
   "id": "43a26277",
   "metadata": {},
   "outputs": [],
   "source": []
  }
 ],
 "metadata": {
  "kernelspec": {
   "display_name": "Python 3 (ipykernel)",
   "language": "python",
   "name": "python3"
  },
  "language_info": {
   "codemirror_mode": {
    "name": "ipython",
    "version": 3
   },
   "file_extension": ".py",
   "mimetype": "text/x-python",
   "name": "python",
   "nbconvert_exporter": "python",
   "pygments_lexer": "ipython3",
   "version": "3.9.12"
  }
 },
 "nbformat": 4,
 "nbformat_minor": 5
}
