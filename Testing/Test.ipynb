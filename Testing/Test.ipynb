{
 "cells": [
  {
   "cell_type": "code",
   "execution_count": 35,
   "id": "53343db8",
   "metadata": {},
   "outputs": [],
   "source": [
    "import test_Structure"
   ]
  },
  {
   "cell_type": "code",
   "execution_count": 36,
   "id": "5ae0071e",
   "metadata": {},
   "outputs": [],
   "source": [
    "import test_suite"
   ]
  },
  {
   "cell_type": "code",
   "execution_count": null,
   "id": "d3e65bb1",
   "metadata": {},
   "outputs": [],
   "source": []
  }
 ],
 "metadata": {
  "kernelspec": {
   "display_name": "Python 3 (ipykernel)",
   "language": "python",
   "name": "python3"
  },
  "language_info": {
   "codemirror_mode": {
    "name": "ipython",
    "version": 3
   },
   "file_extension": ".py",
   "mimetype": "text/x-python",
   "name": "python",
   "nbconvert_exporter": "python",
   "pygments_lexer": "ipython3",
   "version": "3.9.12"
  }
 },
 "nbformat": 4,
 "nbformat_minor": 5
}
